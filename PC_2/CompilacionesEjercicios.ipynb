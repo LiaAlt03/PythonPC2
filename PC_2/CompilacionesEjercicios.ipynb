{
 "cells": [
  {
   "cell_type": "code",
   "execution_count": null,
   "metadata": {},
   "outputs": [],
   "source": [
    "EJERCICIOS PC2 - COMPILACIONES"
   ]
  },
  {
   "cell_type": "code",
   "execution_count": 1,
   "metadata": {},
   "outputs": [
    {
     "name": "stdout",
     "output_type": "stream",
     "text": [
      "\t1. NUMEROS DIVISIBLES Y MÚLTIPLOS. \n",
      "Los números divisibles por 7 y múltiplos de 5 en el rango de 1500 a 2700 son:\n",
      "[1505, 1540, 1575, 1610, 1645, 1680, 1715, 1750, 1785, 1820, 1855, 1890, 1925, 1960, 1995, 2030, 2065, 2100, 2135, 2170, 2205, 2240, 2275, 2310, 2345, 2380, 2415, 2450, 2485, 2520, 2555, 2590, 2625, 2660, 2695]\n"
     ]
    }
   ],
   "source": [
    "'''Problema 1:\n",
    "Escribe un programa en Python para encontrar los números que son divisibles por 7 y múltiplos de 5,\n",
    "en el rango de 1500 y 2700 (ambos incluidos).'''\n",
    "\n",
    "num_divisibles=[] #Lista vacia para almacenar datos\n",
    "\n",
    "for numero in range(1500, 2701):\n",
    "    if numero%7==0 and numero%5==0:\n",
    "        num_divisibles.append(numero)\n",
    "\n",
    "print(\"\\t1. NUMEROS DIVISIBLES Y MÚLTIPLOS. \\nLos números divisibles por 7 y múltiplos de 5 en el rango de 1500 a 2700 son:\")\n",
    "print(num_divisibles)"
   ]
  },
  {
   "cell_type": "code",
   "execution_count": 2,
   "metadata": {},
   "outputs": [
    {
     "name": "stdout",
     "output_type": "stream",
     "text": [
      "\t2. TRIANGULO\n",
      "* \n",
      "* * \n",
      "* * * \n",
      "* * * * \n",
      "* * * \n",
      "* * \n",
      "* \n"
     ]
    }
   ],
   "source": [
    "'''Problema 2:\n",
    "Escriba un programa en Python para construir el siguiente patrón.\n",
    "*\n",
    "* *\n",
    "* * *\n",
    "* * * *\n",
    "* * * * *\n",
    "* * * *\n",
    "* * *\n",
    "* *\n",
    "*\n",
    "'''\n",
    "print(\"\\t2. TRIANGULO\")\n",
    "numero=int(input(\"Digite un numero entero positivo: \"))\n",
    "\n",
    "# Parte superior\n",
    "for i in range(1,numero+1):\n",
    "    for j in range(i):\n",
    "        print(\"*\",end=\" \")\n",
    "    print()\n",
    "\n",
    "# Parte inferior\n",
    "for i in range(numero-1, 0, -1):\n",
    "    for j in range(i):\n",
    "        print(\"*\",end=\" \")\n",
    "    print()"
   ]
  },
  {
   "cell_type": "code",
   "execution_count": 3,
   "metadata": {},
   "outputs": [
    {
     "name": "stdout",
     "output_type": "stream",
     "text": [
      "\t3. NUMEROS PARES E IMPARES. \n",
      "NOTA: Digite '000' para salir del bucle.\n",
      "\n",
      "\n",
      "Cantidad de números pares: 3\n",
      "Cantidad de números impares: 2\n"
     ]
    }
   ],
   "source": [
    "'''Problema 3:\n",
    "Por medio de un bucle While genere un código que permita el ingreso de números por teclado. El\n",
    "ingreso de los números debe ser permitido hasta que el usuario decida ya no ingresar nuevos\n",
    "números.\n",
    "Con dichos números, su programa debe evaluar cada uno de estos números e indicar la cantidad de\n",
    "números pares e impares.'''\n",
    "\n",
    "print(\"\\t3. NUMEROS PARES E IMPARES. \\nNOTA: Digite '000' para salir del bucle.\\n\")\n",
    "pares=0\n",
    "impares=0\n",
    "\n",
    "while True:\n",
    "    numero=int(input(\"Digite un número: \"))\n",
    "    if numero==000:\n",
    "        break\n",
    "    if numero%2==0:\n",
    "        pares+=1\n",
    "    else:\n",
    "        impares+=1\n",
    "\n",
    "print(f\"\\nCantidad de números pares: {pares}\")\n",
    "print(f\"Cantidad de números impares: {impares}\")"
   ]
  },
  {
   "cell_type": "code",
   "execution_count": 5,
   "metadata": {},
   "outputs": [
    {
     "name": "stdout",
     "output_type": "stream",
     "text": [
      "\t4. SISTEMA DE NOTAS.\n",
      "\n",
      "Listado de Alumnos y Notas: \n",
      "ALUMNOS\t\tNOTAS:\n",
      "Julio\t\t[15.0, 16.0, 13.0]\n",
      "Mateo\t\t[19.0, 10.0, 15.0]\n",
      "Maria\t\t[16.0, 20.0, 13.0]\n"
     ]
    }
   ],
   "source": [
    "'''Problema 4:\n",
    "Imaginemos que lo han contratado para un colegio donde se desea realizar un sistema por el cual se\n",
    "pueda generar un listado de “n” alumnos y 3 calificaciones que corresponden a alguna de sus\n",
    "materias.\n",
    "Puede usar el siguiente esquema a manera de ejemplo\n",
    "{ Alumno: Juan, Notas: [10, 12, 15] }\n",
    "Una vez completado el ingreso de los datos, su programa debe mostrar en pantalla el listado\n",
    "completo de los alumnos.'''\n",
    "\n",
    "def sistema(num_alumnos):\n",
    "    alumnos=[] #Vacio, para almacenar nombres\n",
    "    \n",
    "    for i in range(num_alumnos):\n",
    "        nombre=input(f\"Ingrese el nombre del {i+1}° alumno: \")\n",
    "        notas=[] #Almacenar las calificaciones\n",
    "        \n",
    "        for j in range(3):\n",
    "            nota=float(input(f\"\\tIngrese la {j+1}° nota: \"))\n",
    "            notas.append(nota)\n",
    "        \n",
    "        datos={\"Alumno\": nombre, \"Notas\": notas}\n",
    "        alumnos.append(datos)\n",
    "    \n",
    "    return alumnos\n",
    "\n",
    "def listado(alumnos):\n",
    "    print(\"\\nListado de Alumnos y Notas: \\nALUMNOS\\t\\tNOTAS:\")\n",
    "    for datos in alumnos:\n",
    "        print(f\"{datos['Alumno']}\\t\\t{datos['Notas']}\")\n",
    "\n",
    "print(\"\\t4. SISTEMA DE NOTAS.\")\n",
    "num_alumnos=int(input(\"Ingrese la cantidad de alumnos que desea subir notas al sistema:\\n\"))\n",
    "lista_alumnos=sistema(num_alumnos)\n",
    "listado(lista_alumnos)"
   ]
  },
  {
   "cell_type": "code",
   "execution_count": 7,
   "metadata": {},
   "outputs": [
    {
     "name": "stdout",
     "output_type": "stream",
     "text": [
      "\t5. CONTADOR DE DIGITOS\n",
      "Cantidad de veces que se repite el numero 8 en el numero 18928828 es de: 4\n"
     ]
    }
   ],
   "source": [
    "'''Problema 5:\n",
    "Genere una función que tenga como parámetros el ingreso de un número entero y un dígito.\n",
    "Verifique la cantidad de veces que se usa dicho número en el dígito solicitado.\n",
    "Ejemplo:\n",
    "Número ingresado: 15789000 y Dígito: 0\n",
    "Cantidad de veces 0 en el número: 4 '''\n",
    "\n",
    "def contador(numero,digito):\n",
    "    numero=str(numero)\n",
    "    num_veces=numero.count(str(digito))\n",
    "    return num_veces\n",
    "\n",
    "print(\"\\t5. CONTADOR DE DIGITOS\")\n",
    "numero_principal=int(input(\"Ingrese un numero: \"))\n",
    "digito_d=int(input(\"Ingrese el digito que desee contabilizar: \"))\n",
    "cantidad=contador(numero_principal, digito_d)\n",
    "print(f\"Cantidad de veces que se repite el numero {digito_d} en el numero {numero_principal} es de: {cantidad}\")"
   ]
  },
  {
   "cell_type": "code",
   "execution_count": 8,
   "metadata": {},
   "outputs": [
    {
     "name": "stdout",
     "output_type": "stream",
     "text": [
      "\t6. SERIE FIBONACCI\n",
      "La serie de Fibonacci entre los numeros 0 y 50 es la siguiente: \n",
      "[0, 1, 1, 2, 3, 5, 8, 13, 21, 34]\n"
     ]
    }
   ],
   "source": [
    "'''Problema 6:\n",
    "Escriba un programa en Python para obtener la serie de Fibonacci entre 0 y 50.\n",
    "Nota: La secuencia de Fibonacci es la serie de números:\n",
    "0, 1, 1, 2, 3, 5, 8, 13, 21,. ...\n",
    "Cada número siguiente se obtiene sumando los dos números anteriores.'''\n",
    "\n",
    "def fibonacci(numero):\n",
    "    secuencia=[0,1]\n",
    "\n",
    "    while secuencia[-1]<=numero:\n",
    "            num_siguiente=secuencia[-1]+secuencia[-2]\n",
    "            secuencia.append(num_siguiente)\n",
    "    secuencia.pop()#Se utiliza para eliminar el último número que excede el valor de \"numero\"\n",
    "    return secuencia\n",
    "\n",
    "secuencia=fibonacci(50)\n",
    "print(\"\\t6. SERIE FIBONACCI\")\n",
    "print(\"La serie de Fibonacci entre los numeros 0 y 50 es la siguiente: \")\n",
    "print(secuencia)"
   ]
  },
  {
   "cell_type": "code",
   "execution_count": 9,
   "metadata": {},
   "outputs": [
    {
     "name": "stdout",
     "output_type": "stream",
     "text": [
      "\t7. EVALUAR NUMEROS PRIMOS.\n",
      "167 es un número primo.\n"
     ]
    }
   ],
   "source": [
    "'''Problema 7:\n",
    "Escriba una función de Python que tome un número como parámetro y verifique que el número sea\n",
    "primo o no.'''\n",
    "import math #Agregamos el modulo math\n",
    "def es_primo(numero):\n",
    "    if numero==1: #El 1 no es primo\n",
    "        return False\n",
    "    if numero==2 or numero==3: #Los números 2 y 3 son primos\n",
    "        return True\n",
    "\n",
    "    raiz_cuadrada=math.isqrt(numero) #Aplicamos la funcion del modulo math para calcular la raiz cuadrada\n",
    "    for i in range(2, raiz_cuadrada+1):\n",
    "        if numero%i==0:\n",
    "            return False\n",
    "    return True\n",
    "\n",
    "print(\"\\t7. EVALUAR NUMEROS PRIMOS.\")\n",
    "numero=int(input(\"Ingrese un número: \"))\n",
    "if es_primo(numero):\n",
    "    print(f\"{numero} es un número primo.\")\n",
    "else:\n",
    "    print(f\"{numero} no es un número primo.\")"
   ]
  },
  {
   "cell_type": "code",
   "execution_count": 11,
   "metadata": {},
   "outputs": [
    {
     "name": "stdout",
     "output_type": "stream",
     "text": [
      "\t8. CALCULO DEL FACTORIAL DE UN NUMERO.\n",
      "El factorial de 12 es 479001600.\n"
     ]
    }
   ],
   "source": [
    "'''Problema 8:\n",
    "Escribe una función de Python para calcular el factorial de un número (un entero no negativo). La\n",
    "función acepta el número como argumento.\n",
    "'''\n",
    "def factorial(numero):\n",
    "    if numero==0: #caso especial de factorial de 0\n",
    "        return 1\n",
    "    resultado=1\n",
    "    for i in range(1,numero+1):\n",
    "        resultado*=i\n",
    "    return resultado\n",
    "\n",
    "print(\"\\t8. CALCULO DEL FACTORIAL DE UN NUMERO.\")\n",
    "numero=int(input(\"Ingrese un numero entero positivo: \"))\n",
    "if numero<0:\n",
    "    print(\"El numero NO debe ser negativo, reinicie el programa.\")\n",
    "else:\n",
    "    resultado=factorial(numero)\n",
    "    print(f\"El factorial de {numero} es {resultado}.\")"
   ]
  },
  {
   "cell_type": "code",
   "execution_count": 13,
   "metadata": {},
   "outputs": [
    {
     "name": "stdout",
     "output_type": "stream",
     "text": [
      "\t9. OMITIR VOCALES\n",
      "El texto con las vocales omitidas es: hl q tl stn tds\n"
     ]
    }
   ],
   "source": [
    "'''Problema 9:\n",
    "Al enviar mensajes de texto o twittear, no es raro acortar las palabras para ahorrar tiempo o espacio,\n",
    "por ejemplo, omitiendo las vocales.\n",
    "Implemente un programa que solicite al usuario una cadena de texto y luego retorne ese mismo\n",
    "texto pero con todas las vocales (A, E, I, O y U) omitidas, ya sea que se ingresen en mayúsculas o\n",
    "minúsculas. '''\n",
    "\n",
    "def omitir_vocales(cadena):\n",
    "    nueva_palabra=\"\"\n",
    "    for letra in cadena:\n",
    "        letra=letra.lower()\n",
    "        if letra not in \"aeiou\":\n",
    "            nueva_palabra+=letra\n",
    "    return nueva_palabra\n",
    "\n",
    "print(\"\\t9. OMITIR VOCALES\")\n",
    "texto=input(\"Ingrese una cadena de texto: \")\n",
    "nueva_palabra=omitir_vocales(texto)\n",
    "print(\"El texto con las vocales omitidas es:\",nueva_palabra)"
   ]
  },
  {
   "cell_type": "code",
   "execution_count": 14,
   "metadata": {},
   "outputs": [
    {
     "name": "stdout",
     "output_type": "stream",
     "text": [
      "\t10. REORDENAMIENTO DE FECHA.\n",
      "\n",
      "La fecha en formato AAAA-MM-DD es:1998-03-12\n"
     ]
    }
   ],
   "source": [
    "'''Problema 10:\n",
    "Implementar un programa que pida al usuario una fecha, en orden mes-día-año, con formato como\n",
    "8/9/1636 o Septiembre 8, 1636, donde el mes en este último podría ser cualquiera de los valores en\n",
    "la lista abajo:\n",
    "[\"Enero\", \"Febrero\", \"Marzo\", \"Abril\", \"Mayo\", \"Junio\", \"Julio\", \"Agosto\", \"Septiembre\", \"Octubre\",\n",
    "\"Noviembre\", \"Diciembre\"]\n",
    "Luego, genere esa misma fecha en formato AAAA-MM-DD.'''\n",
    "\n",
    "meses={ #Diccionario para identificar con facilidad cada mes con su respectivo numero\n",
    "    \"Enero\": \"01\",\n",
    "    \"Febrero\": \"02\",\n",
    "    \"Marzo\": \"03\",\n",
    "    \"Abril\": \"04\",\n",
    "    \"Mayo\": \"05\",\n",
    "    \"Junio\": \"06\",\n",
    "    \"Julio\": \"07\",\n",
    "    \"Agosto\": \"08\",\n",
    "    \"Septiembre\": \"09\",\n",
    "    \"Octubre\": \"10\",\n",
    "    \"Noviembre\": \"11\",\n",
    "    \"Diciembre\": \"12\"\n",
    "}\n",
    "\n",
    "def convertir_fecha(fecha):\n",
    "    for mes, numero_mes in meses.items():\n",
    "        fecha=fecha.replace(mes,numero_mes)\n",
    "\n",
    "    componentes=fecha.split() #Separamos en componentes\n",
    "    if len(componentes)==3:\n",
    "        mes=componentes[0].zfill(2)\n",
    "        dia=componentes[1].rstrip(',').zfill(2)\n",
    "        anio=componentes[2]\n",
    "    else:\n",
    "        mes=fecha.split(\"/\")[0].zfill(2)\n",
    "        dia=fecha.split(\"/\")[1].zfill(2)\n",
    "        anio=fecha.split(\"/\")[2]\n",
    "\n",
    "    return f\"{anio}-{mes}-{dia}\"\n",
    "\n",
    "print(\"\\t10. REORDENAMIENTO DE FECHA.\")\n",
    "fecha=input(\"Por favor, ingrese una fecha en el orden (mes-dia-anio) o (Mes dia, anio). \\nEjemplo: 11/15/2003 o Noviembre 15,2003. \\nIngrese la fecha: \")\n",
    "fecha_printable=convertir_fecha(fecha)\n",
    "print(f\"\\nLa fecha en formato AAAA-MM-DD es:{fecha_printable}\")"
   ]
  }
 ],
 "metadata": {
  "kernelspec": {
   "display_name": "Python 3",
   "language": "python",
   "name": "python3"
  },
  "language_info": {
   "codemirror_mode": {
    "name": "ipython",
    "version": 3
   },
   "file_extension": ".py",
   "mimetype": "text/x-python",
   "name": "python",
   "nbconvert_exporter": "python",
   "pygments_lexer": "ipython3",
   "version": "3.10.8"
  },
  "orig_nbformat": 4
 },
 "nbformat": 4,
 "nbformat_minor": 2
}
